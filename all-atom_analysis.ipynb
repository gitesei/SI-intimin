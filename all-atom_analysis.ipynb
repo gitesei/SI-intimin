{
 "cells": [
  {
   "cell_type": "code",
   "execution_count": 1,
   "metadata": {},
   "outputs": [],
   "source": [
    "#Import all packages needed\n",
    "import matplotlib as mpl\n",
    "import matplotlib.pyplot as plt\n",
    "import os.path, os, sys, copy\n",
    "import mdtraj as md\n",
    "from mdtraj.utils.rotation import rotation_matrix_from_quaternion\n",
    "import numpy as np\n",
    "import pandas as pd\n",
    "import matplotlib.patches as mpatches\n",
    "%matplotlib inline"
   ]
  },
  {
   "cell_type": "code",
   "execution_count": null,
   "metadata": {},
   "outputs": [],
   "source": [
    "plt.rcdefaults()\n",
    "plt.rcParams.update({ 'axes.linewidth':1, 'axes.labelsize': 12 })\n",
    "plt.rcParams.update({ 'xtick.labelsize':12, 'ytick.labelsize':12 })\n",
    "\n",
    "plt.rcParams.update({ 'xtick.major.width': 1.2, 'ytick.major.width': 1.2, \n",
    "                    'xtick.major.size': 6, 'ytick.major.size': 6, 'grid.linestyle': ':' })\n",
    "plt.rcParams.update({ 'figure.figsize': [6.0, 4.0], 'font.size': 12, 'figure.dpi':70 })"
   ]
  },
  {
   "cell_type": "code",
   "execution_count": null,
   "metadata": {},
   "outputs": [],
   "source": [
    "def align_axis(traj,v,axis,cm,indexes,resid1,resid2):\n",
    "    u = np.array(axis)\n",
    "    a = np.cross(v,u) \n",
    "    a = a / np.linalg.norm(a,axis=1,keepdims=True)\n",
    "    b = np.arccos( np.dot(v,u) / np.linalg.norm(v,axis=1) )\n",
    "    # we align D0 to its principal axis\n",
    "    quaternion = np.insert(np.sin(-b/2).reshape(-1,1)*a,0,np.cos(-b/2),axis=1)\n",
    "    newxyz = traj.xyz - cm.reshape(-1,1,3)\n",
    "    newxyz = np.matmul(newxyz,rotation_matrix_from_quaternion(quaternion)) \n",
    "    ndx1 = traj.top.select('residue {:d} and name CA'.format(resid1))[0] \n",
    "    ndx2 = traj.top.select('residue {:d} and name CA'.format(resid2))[0] \n",
    "    # in some frames, D0 is upside-down\n",
    "    mask = newxyz[:,ndx2,2] > newxyz[:,ndx1,2]\n",
    "    print(newxyz.shape,mask.sum())\n",
    "    # we rotate those frames by 180 deg about the x-axis\n",
    "    newxyz[mask] = np.matmul(newxyz[mask],rotation_matrix_from_quaternion(np.array([0,1,0,0])))\n",
    "    # let's check that the rotation was successful\n",
    "    mask = newxyz[:,ndx2,2] > newxyz[:,ndx1,2]\n",
    "    print(newxyz.shape,mask.sum())\n",
    "    t = md.Trajectory(newxyz, topology=traj.top, \n",
    "                             unitcell_lengths=traj.unitcell_lengths, \n",
    "                             unitcell_angles=traj.unitcell_angles)\n",
    "    return t\n",
    "\n",
    "def calc_angles(t,N1,N2):\n",
    "    d1 = t.top.select('index < {:d}'.format(N1))\n",
    "    d2 = t.top.select('index >= {:d} and index < {:d}'.format(N1,N1+N2))\n",
    "    td1 = t.atom_slice(d1)\n",
    "    td2 = t.atom_slice(d2)\n",
    "    cm2 = md.compute_center_of_mass(td2)\n",
    "    I1 = md.compute_inertia_tensor(td1)\n",
    "    w1, v1 = np.linalg.eigh(I1)\n",
    "    I2 = md.compute_inertia_tensor(td2)\n",
    "    w2, v2 = np.linalg.eigh(I2)\n",
    "    v1 = v1[:,:,0].reshape(-1,3)\n",
    "    v2 = v2[:,:,0].reshape(-1,3)\n",
    "    angles = np.empty(0)\n",
    "    for i in range(t.n_frames):\n",
    "        alpha = np.rad2deg(np.arccos(np.clip(v2[i,2],-1.,1.)))\n",
    "        if i == 0 and alpha>90:\n",
    "            v2[i] *= -1\n",
    "        elif np.linalg.norm(td2.xyz[i,0]-v2[i]-cm2[i]) < np.linalg.norm(td2.xyz[i,0]+v2[i]-cm2[i]):\n",
    "            v2[i] *= -1\n",
    "        alpha = np.rad2deg(np.arccos(np.clip(v2[i,2],-1.,1.)))\n",
    "        angles = np.append(angles, alpha)\n",
    "    return angles\n",
    "\n",
    "def align_traj(traj,protein,indexes=[1,97,103,194],resid=[23,29]):\n",
    "    \"\"\"The MD trajectory obtained by joining the single windows is aligned in such a way\n",
    "    that the principal axis of a domain superposes the z-axis.\n",
    "    indexes: [1,97,103,194] for D0-D1, [18,98,108,204] for D00-D0\n",
    "    resid: [23,29] for D0-D1, [92,18] for D00-D0\n",
    "    \"\"\"\n",
    "    t = traj.atom_slice(traj.top.select('backbone'))\n",
    "    # calculate principal axis of the first domain and align it to the z-axis\n",
    "    d1 = t.top.select('((residue >= {:d}) and (residue <= {:d}))'.format(indexes[0],indexes[1]))\n",
    "    d2 = t.top.select('((residue >= {:d}) and (residue <= {:d}))'.format(indexes[2],indexes[3]))\n",
    "    N1 = len(d1)\n",
    "    N2 = len(d2)\n",
    "    td1 = t.atom_slice(d1)\n",
    "    cm1 = md.compute_center_of_mass(td1)\n",
    "    I1 = md.compute_inertia_tensor(td1)\n",
    "    del td1\n",
    "    v1 = np.linalg.eigh(I1)[1][:,:,0].reshape(-1,3)\n",
    "    t = align_axis(t,v1,[0,0,1],cm1,indexes,resid[0],resid[1])\n",
    "    t[0].save_pdb('{}/joined.pdb'.format(protein))\n",
    "    t.save_xtc('{}/joined.xtc'.format(protein))\n",
    "    return calc_angles(t,N1,N2)\n",
    "\n",
    "def cmdist(protein,indexes):\n",
    "    t = md.load_xtc('{}/joined.xtc'.format(protein),'{}/joined.pdb'.format(protein))\n",
    "    \n",
    "    d1 = t.top.select('((residue >= {:d}) and (residue <= {:d}))'.format(indexes[0],indexes[1]))\n",
    "    d2 = t.top.select('((residue > {:d}) and (residue < {:d}))'.format(indexes[1],indexes[2]))\n",
    "    d3 = t.top.select('((residue >= {:d}) and (residue <= {:d}))'.format(indexes[2],indexes[3]))\n",
    "    \n",
    "    cm1 = md.compute_center_of_mass(t.atom_slice(d1))\n",
    "    cm2 = md.compute_center_of_mass(t.atom_slice(d2))\n",
    "    cm3 = md.compute_center_of_mass(t.atom_slice(d3))\n",
    "    \n",
    "    rg1 = md.compute_rg(t.atom_slice(d1),np.array([a.element.mass for a in t.atom_slice(d1).top.atoms]))\n",
    "    rg2 = md.compute_rg(t.atom_slice(d2),np.array([a.element.mass for a in t.atom_slice(d2).top.atoms]))\n",
    "    return rg1, rg2, np.linalg.norm(cm3-cm1,axis=1), np.linalg.norm(cm1-cm2,axis=1), np.linalg.norm(cm3-cm2,axis=1)"
   ]
  },
  {
   "cell_type": "code",
   "execution_count": null,
   "metadata": {},
   "outputs": [],
   "source": [
    "!mkdir d00-d0\n",
    "s = md.load('md_input/d00-d0.pdb')\n",
    "align_traj(s,'d00-d0',[18,98,108,204],[92,18])\n",
    "#align_traj(s,'d0-d1',indexes=np.array([3,97,102,195])+557,resid=np.array([29,23])+557) # d0-d1"
   ]
  },
  {
   "cell_type": "code",
   "execution_count": null,
   "metadata": {},
   "outputs": [],
   "source": [
    "t = md.load_netcdf('d00-d0/intimin_nvt.nc','d00-d0/intimin.parm7')\n",
    "for i in range(1,11):\n",
    "    ti = md.load_netcdf('d00-d0/intimin_nvt{:d}.nc'.format(i),'d00-d0/intimin.parm7')\n",
    "    t = md.join([t,ti])\n",
    "    del ti"
   ]
  },
  {
   "cell_type": "code",
   "execution_count": null,
   "metadata": {},
   "outputs": [],
   "source": [
    "angles = align_traj(t,'d00-d0',[18,98,108,204],[92,18])\n",
    "#angles = align_traj(t,'d0-d1',indexes=[3,97,102,195],resid=[29,23]) # d0-d1"
   ]
  },
  {
   "cell_type": "markdown",
   "metadata": {},
   "source": [
    "### Domain-Domain Separation"
   ]
  },
  {
   "cell_type": "code",
   "execution_count": null,
   "metadata": {
    "scrolled": false
   },
   "outputs": [],
   "source": [
    "rg1, rg2, cm13, cm12, cm23 = cmdist('d00-d0',indexes=[18,98,108,204])\n",
    "#rg1, rg2, cm13, cm12, cm23 = cmdist('d0-d1',[3,97,102,195]) # d0-d1\n",
    "np.savetxt('data/d00-d0_cm13.dat',np.c_[np.linspace(0,angles.size*2/1e5,angles.size)[10000:],cm13[10000:]])\n",
    "np.savetxt('data/d00-d0_cm12.dat',np.c_[np.linspace(0,angles.size*2/1e5,angles.size)[10000:],cm12[10000:]])\n",
    "np.savetxt('data/d00-d0_cm23.dat',np.c_[np.linspace(0,angles.size*2/1e5,angles.size)[10000:],cm23[10000:]])"
   ]
  },
  {
   "cell_type": "markdown",
   "metadata": {},
   "source": [
    "### $D_{max}$"
   ]
  },
  {
   "cell_type": "code",
   "execution_count": null,
   "metadata": {},
   "outputs": [],
   "source": [
    "Dmax = []\n",
    "pairs = t.top.select_pairs('name CA','name CA')\n",
    "for frame in t:\n",
    "    d = md.compute_distances(frame,atom_pairs=pairs)\n",
    "    Dmax.append(d.max())\n",
    "\n",
    "np.savetxt('data/d00-d0_Dmax.dat',np.c_[np.linspace(0,rg.size*2/1e5,rg.size),Dmax])"
   ]
  },
  {
   "cell_type": "markdown",
   "metadata": {},
   "source": [
    "### RMSF"
   ]
  },
  {
   "cell_type": "code",
   "execution_count": null,
   "metadata": {},
   "outputs": [],
   "source": [
    "indexes = [0,100,109,203]\n",
    "#indexes = [3,97,102,195] # d0-d1\n",
    "\n",
    "d1 = t.top.select('((residue >= {:d}) and (residue <= {:d}))'.format(indexes[0],indexes[1]))\n",
    "d2 = t.top.select('((residue >= {:d}) and (residue <= {:d}))'.format(indexes[2],indexes[3]))\n",
    "\n",
    "resnums = np.arange(indexes[0]+450,indexes[1]+1+450,1,dtype=int)\n",
    "#resnums = np.arange(indexes[0]+556,indexes[1]+1+556,1,dtype=int) # d0-d1\n",
    "td1 = t.atom_slice(d1) \n",
    "\n",
    "rmsf = []\n",
    "for atom in ['N','CA','C','O']:\n",
    "    tatom = td1.atom_slice(td1.top.select('name '+atom))\n",
    "    rmsf.append( md.rmsf(tatom[10000:],tatom[0]) )\n",
    "rmsf_m = np.mean(rmsf,axis=0)\n",
    "rmsf_s = np.std(rmsf,axis=0)\n",
    "plt.plot(resnums,rmsf_m,lw=3,color=plt.get_cmap('tab10')(0))\n",
    "plt.fill_between(resnums,rmsf_m-rmsf_s,rmsf_m+rmsf_s,alpha=.2,color=plt.get_cmap('tab10')(0),edgecolor=None)\n",
    "np.savetxt('data/d00_d00d0_rmsf.dat',np.c_[resnums,rmsf_m,rmsf_s])\n",
    "\n",
    "resnums = np.arange(indexes[2]+450,indexes[3]+1+450,1,dtype=int)\n",
    "#resnums = np.arange(indexes[2]+556,indexes[3]+1+556,1,dtype=int) # d0-d1\n",
    "td2 = t.atom_slice(d2) \n",
    "\n",
    "rmsf = []\n",
    "for atom in ['N','CA','C','O']:\n",
    "    tatom = td2.atom_slice(td2.top.select('name '+atom))\n",
    "    rmsf.append( md.rmsf(tatom[10000:],tatom[0]) )\n",
    "rmsf_m = np.mean(rmsf,axis=0)\n",
    "rmsf_s = np.std(rmsf,axis=0)\n",
    "plt.plot(resnums,rmsf_m,lw=3,color=plt.get_cmap('tab10')(0))\n",
    "plt.fill_between(resnums,rmsf_m-rmsf_s,rmsf_m+rmsf_s,alpha=.2,color=plt.get_cmap('tab10')(0),edgecolor=None)\n",
    "np.savetxt('data/d0_d00d0_rmsf.dat',np.c_[resnums,rmsf_m,rmsf_s])"
   ]
  },
  {
   "cell_type": "markdown",
   "metadata": {},
   "source": [
    "### Secondary Structure"
   ]
  },
  {
   "cell_type": "code",
   "execution_count": null,
   "metadata": {},
   "outputs": [],
   "source": [
    "assigned = md.compute_dssp(t[10000:],simplified=False)\n",
    "\n",
    "resids = np.array([res.index for res in t.top.residues])\n",
    "resids.size\n",
    "\n",
    "resnums = np.arange(450,resids.size+450,1,dtype=int)\n",
    "# resnums = np.arange(556,753,1,dtype=int) # d0-d1"
   ]
  },
  {
   "cell_type": "code",
   "execution_count": null,
   "metadata": {},
   "outputs": [],
   "source": [
    "f = .5\n",
    "for s in ['E','T','H','S']:\n",
    "    sec = np.sum(assigned==s,axis=0)/assigned.shape[0]\n",
    "    plt.bar(resnums[sec>f], sec[sec>f].size*[1], width=1, alpha=0.3)\n",
    "    np.savetxt('data/d00-d0_sec{:s}_{:.1f}.dat'.format(s,f),np.c_[resnums[sec>f], sec[sec>f].size*[2]])\n",
    "plt.xlim(resnums.min(),resnums.max())"
   ]
  },
  {
   "cell_type": "code",
   "execution_count": 2,
   "metadata": {},
   "outputs": [
    {
     "data": {
      "text/plain": [
       "<Figure size 432x288 with 0 Axes>"
      ]
     },
     "metadata": {},
     "output_type": "display_data"
    },
    {
     "data": {
      "image/png": "[encoded data removed]",
      "text/plain": [
       "<Figure size 504x432 with 4 Axes>"
      ]
     },
     "metadata": {
      "needs_background": "light"
     },
     "output_type": "display_data"
    }
   ],
   "source": [
    "fig = plt.figure()\n",
    "\n",
    "fig, ((ax1,ax2),(ax3,ax4)) = plt.subplots(2, 2, sharex=False, sharey=False, figsize=(7,6))\n",
    "\n",
    "resnums,rmsf_m,rmsf_s = np.loadtxt('data/d00_d00d0_rmsf.dat',unpack=True)\n",
    "ax1.plot(resnums,rmsf_m,lw=3,color=plt.get_cmap('tab10')(0))\n",
    "ax1.fill_between(resnums,rmsf_m-rmsf_s,rmsf_m+rmsf_s,alpha=.2,color=plt.get_cmap('tab10')(0),edgecolor=None)\n",
    "for s in ['E','T','S','H']:\n",
    "    x,y = np.loadtxt('data/d00-d0_sec{:s}.dat'.format(s),unpack=True)\n",
    "    x = x[(x>=resnums.min())&(x<=resnums.max())]\n",
    "    ax1.bar(x, x.size*[.8], width=1, alpha=0.3)\n",
    "ymax = rmsf_m.max()\n",
    "ax1.set_ylim(0,1)\n",
    "ax1.set_xlim(resnums.min(),resnums.max())\n",
    "ax1.set_xticks(resnums[::20])\n",
    "\n",
    "resnums,rmsf_m,rmsf_s = np.loadtxt('data/d0_d0d1_rmsf.dat',unpack=True)\n",
    "ax2.plot(resnums,rmsf_m,lw=3,color=plt.get_cmap('tab10')(3))\n",
    "ax2.fill_between(resnums,rmsf_m-rmsf_s,rmsf_m+rmsf_s,alpha=.2,color=plt.get_cmap('tab10')(3),edgecolor=None)\n",
    "for s in ['E','T','S']:\n",
    "    x,y = np.loadtxt('data/d0-d1_sec{:s}_{:.1f}.dat'.format(s,.5),unpack=True)\n",
    "    x = x[(x>=resnums.min())&(x<=resnums.max())]\n",
    "    ax2.bar(x, x.size*[.8], width=1, alpha=0.3)\n",
    "ax2.set_xlim(resnums.min(),resnums.max())\n",
    "ax2.set_ylim(0,1)\n",
    "ax2.set_xticks(resnums[::20])\n",
    "\n",
    "resnums,rmsf_m,rmsf_s = np.loadtxt('data/d0_d00d0_rmsf.dat',unpack=True)\n",
    "ax3.plot(resnums,rmsf_m,lw=3,color=plt.get_cmap('tab10')(0))\n",
    "ax3.fill_between(resnums,rmsf_m-rmsf_s,rmsf_m+rmsf_s,alpha=.2,color=plt.get_cmap('tab10')(0),edgecolor=None)\n",
    "for s in ['E','T','S']:\n",
    "    x,y = np.loadtxt('data/d00-d0_sec{:s}.dat'.format(s),unpack=True)\n",
    "    x = x[(x>=resnums.min())&(x<=resnums.max())]\n",
    "    ax3.bar(x, x.size*[.4], width=1, alpha=0.3)\n",
    "ax3.set_xlim(resnums.min(),resnums.max())\n",
    "ax3.set_ylim(0,.5)\n",
    "ax3.set_xticks(resnums[::20])\n",
    "\n",
    "resnums,rmsf_m,rmsf_s = np.loadtxt('data/d1_d0d1_rmsf.dat',unpack=True)\n",
    "ax4.plot(resnums,rmsf_m,lw=3,color=plt.get_cmap('tab10')(3))\n",
    "ax4.fill_between(resnums,rmsf_m-rmsf_s,rmsf_m+rmsf_s,alpha=.2,color=plt.get_cmap('tab10')(3),edgecolor=None)\n",
    "for s in ['E','T','S']:\n",
    "    x,y = np.loadtxt('data/d0-d1_sec{:s}_{:.1f}.dat'.format(s,.5),unpack=True)\n",
    "    x = x[(x>=resnums.min())&(x<=resnums.max())]\n",
    "    ax4.bar(x, x.size*[.2], width=1, alpha=0.3)\n",
    "ax4.set_xlim(resnums.min(),resnums.max())\n",
    "ax4.set_ylim(0,.5)\n",
    "ax4.set_xticks(resnums[::20])\n",
    "\n",
    "blue_patch = mpatches.Patch(color=plt.get_cmap('tab10')(0), label='beta strand',alpha=.3,lw=0)\n",
    "yellow_patch = mpatches.Patch(color=plt.get_cmap('tab10')(1), label='H-bonded turns',alpha=.3,lw=0)\n",
    "green_patch = mpatches.Patch(color=plt.get_cmap('tab10')(2), label='bends',alpha=.3,lw=0)\n",
    "red_patch = mpatches.Patch(color=plt.get_cmap('tab10')(3), label='alpha helix',alpha=.3,lw=0)\n",
    "plt.legend(handles=[blue_patch,yellow_patch,green_patch,red_patch],loc='upper left',frameon=False)\n",
    "\n",
    "ax2.yaxis.set_label_position(\"right\")\n",
    "ax2.yaxis.set_ticks_position('right')\n",
    "\n",
    "ax4.yaxis.set_label_position(\"right\")\n",
    "ax4.yaxis.set_ticks_position('right')\n",
    "\n",
    "ax1.annotate('D00',xy=(0.95,0.87),xycoords='axes fraction',fontsize=14,horizontalalignment='right')\n",
    "ax2.annotate('D0',xy=(0.95,0.87),xycoords='axes fraction',fontsize=14,horizontalalignment='right')\n",
    "ax3.annotate('D0',xy=(0.95,0.87),xycoords='axes fraction',fontsize=14,horizontalalignment='right')\n",
    "ax4.annotate('D1',xy=(0.95,0.87),xycoords='axes fraction',fontsize=14,horizontalalignment='right')\n",
    "\n",
    "ax1.set_title('D00-D0',fontdict={'fontsize':16,'color':plt.get_cmap('tab10')(0)})\n",
    "ax2.set_title('D0-D1',fontdict={'fontsize':16,'color':plt.get_cmap('tab10')(3)})\n",
    "ax1.set_ylabel('RMSF  /  nm')\n",
    "ax2.set_ylabel('RMSF  /  nm')\n",
    "ax3.set_ylabel('RMSF  /  nm')\n",
    "ax4.set_ylabel('RMSF  /  nm')\n",
    "ax3.set_xlabel('Residue Number')\n",
    "ax4.set_xlabel('Residue Number')\n",
    "plt.tight_layout(h_pad=.4,w_pad=.2)"
   ]
  }
 ],
 "metadata": {
  "kernelspec": {
   "display_name": "Python 3",
   "language": "python",
   "name": "python3"
  },
  "language_info": {
   "codemirror_mode": {
    "name": "ipython",
    "version": 3
   },
   "file_extension": ".py",
   "mimetype": "text/x-python",
   "name": "python",
   "nbconvert_exporter": "python",
   "pygments_lexer": "ipython3",
   "version": "3.7.6"
  }
 },
 "nbformat": 4,
 "nbformat_minor": 2
}
